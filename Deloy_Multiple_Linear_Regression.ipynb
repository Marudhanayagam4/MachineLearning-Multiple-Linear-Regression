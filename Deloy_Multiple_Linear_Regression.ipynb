{
 "cells": [
  {
   "cell_type": "code",
   "execution_count": 2,
   "id": "36ecc23d-db16-4b8a-8bc2-93f0c88f22d0",
   "metadata": {},
   "outputs": [
    {
     "name": "stdin",
     "output_type": "stream",
     "text": [
      "R&D: 164461\n",
      "Administration: 6411646\n",
      "Marketing: 646464\n",
      "State_Florida 0 or 1: 0\n",
      "State_NewYork 0 or 1: 1\n"
     ]
    },
    {
     "name": "stdout",
     "output_type": "stream",
     "text": [
      "Future Predictions=[[386432.33589556]]\n"
     ]
    },
    {
     "name": "stderr",
     "output_type": "stream",
     "text": [
      "C:\\Anaconda3\\Lib\\site-packages\\sklearn\\base.py:493: UserWarning: X does not have valid feature names, but LinearRegression was fitted with feature names\n",
      "  warnings.warn(\n"
     ]
    }
   ],
   "source": [
    "# Deplayment Phase - end user\n",
    "import pickle\n",
    "filename=\"finalized_mult_linear_regression_model.sav\"\n",
    "#loading trained model\n",
    "loaded_model=pickle.load(open(filename, \"rb\"))\n",
    "\n",
    "# get inputs from user\n",
    "rd_input=float(input(\"R&D:\"))\n",
    "admin_input=float(input(\"Administration:\"))\n",
    "mark_input=float(input(\"Marketing:\"))\n",
    "flo_input=int(input(\"State_Florida 0 or 1:\"))\n",
    "new_input=int(input(\"State_NewYork 0 or 1:\"))\n",
    "\n",
    "#Prediction\n",
    "future_prediction=loaded_model.predict([[rd_input,admin_input,mark_input,flo_input,new_input]])\n",
    "\n",
    "print(\"Future Predictions={}\".format(future_prediction))\n",
    "\n"
   ]
  },
  {
   "cell_type": "code",
   "execution_count": null,
   "id": "023a2393-bb13-4780-97cf-c4f6edebea04",
   "metadata": {},
   "outputs": [],
   "source": []
  }
 ],
 "metadata": {
  "kernelspec": {
   "display_name": "Python 3 (ipykernel)",
   "language": "python",
   "name": "python3"
  },
  "language_info": {
   "codemirror_mode": {
    "name": "ipython",
    "version": 3
   },
   "file_extension": ".py",
   "mimetype": "text/x-python",
   "name": "python",
   "nbconvert_exporter": "python",
   "pygments_lexer": "ipython3",
   "version": "3.12.4"
  }
 },
 "nbformat": 4,
 "nbformat_minor": 5
}
